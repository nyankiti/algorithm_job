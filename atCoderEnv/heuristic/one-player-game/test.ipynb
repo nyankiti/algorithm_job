{
 "cells": [
  {
   "cell_type": "code",
   "execution_count": 114,
   "id": "ea040083-c8b7-45f3-9a9a-8a5d707e1391",
   "metadata": {
    "tags": []
   },
   "outputs": [],
   "source": [
    "import optuna\n",
    "import subprocess\n",
    "from multiprocessing import Pool\n",
    "import os\n",
    "import optuna\n",
    "from random import sample\n",
    "from tqdm import tqdm\n",
    "from typing import List\n",
    "\n",
    "def compile_cpp(cpp_file):\n",
    "    exe_file = \"a.out\"\n",
    "    # コンパイルする\n",
    "    subprocess.run([\"g++\", \"-O3\", \"-std=c++17\", \"-o\", exe_file, cpp_file])\n",
    "    return exe_file\n",
    "\n",
    "# 標準出力をgeneratorとして返す\n",
    "def execute_cpp_get_lines(cpp_file: str, args: List[str]):\n",
    "    exe_file = compile_cpp(cpp_file)\n",
    "    cmd = \" \".join([\"./\"+exe_file, *args])\n",
    "    # Popenは新規プロセスを立ち上げるので非同期的に処理する\n",
    "    proc = subprocess.Popen(cmd, shell=True, stdout=subprocess.PIPE, stderr=subprocess.STDOUT)\n",
    "\n",
    "    while True:\n",
    "        line = proc.stdout.readline()\n",
    "        if line:\n",
    "            yield line\n",
    "\n",
    "        if not line and proc.poll() is not None:\n",
    "            break\n",
    "            \n",
    "# 結果だけを返す(コンパイルしないので実行ファイルのパスを指定する)\n",
    "def execute_cpp(exe_file: str, args: List[str]):\n",
    "    cmd = \" \".join([\"./\"+exe_file, *args])\n",
    "    # Popenは新規プロセスを立ち上げるので非同期的に処理する\n",
    "    return subprocess.run(cmd, shell=True, stdout=subprocess.PIPE, stderr=subprocess.STDOUT)"
   ]
  },
  {
   "cell_type": "markdown",
   "id": "157af0fc-c7f6-4a74-bf21-027cbb15e508",
   "metadata": {},
   "source": [
    "### ランダムに移動する"
   ]
  },
  {
   "cell_type": "code",
   "execution_count": 99,
   "id": "fcfe07f9-47e0-4ee9-a835-762cb28329d0",
   "metadata": {
    "tags": []
   },
   "outputs": [
    {
     "name": "stdout",
     "output_type": "stream",
     "text": [
      "turn:\t0\n",
      "score:\t0\n",
      "4613\n",
      ".@2.\n",
      "7566\n",
      "\n",
      "turn:\t1\n",
      "score:\t2\n",
      "4613\n",
      "..@.\n",
      "7566\n",
      "\n",
      "turn:\t2\n",
      "score:\t3\n",
      "46@3\n",
      "....\n",
      "7566\n",
      "\n",
      "turn:\t3\n",
      "score:\t3\n",
      "46.3\n",
      "..@.\n",
      "7566\n",
      "\n",
      "turn:\t4\n",
      "score:\t3\n",
      "46.3\n",
      "...@\n",
      "7566\n",
      "\n"
     ]
    }
   ],
   "source": [
    "H = \"3\"\n",
    "W = \"4\"\n",
    "END_TURN = \"4\"\n",
    "seed = \"121321\"\n",
    "\n",
    "for line in execute_cpp_get_lines(\"onePlayerGame.cpp\", [H, W, END_TURN, seed]):\n",
    "    sys.stdout.write(line.decode('utf-8'))"
   ]
  },
  {
   "cell_type": "markdown",
   "id": "17a54946-558e-425d-a39e-f4007dd5dbd2",
   "metadata": {},
   "source": [
    "### ビームサーチ"
   ]
  },
  {
   "cell_type": "code",
   "execution_count": 130,
   "id": "00053799-fc2f-4f8a-8689-b3ca45ca2fe8",
   "metadata": {
    "tags": []
   },
   "outputs": [
    {
     "name": "stdout",
     "output_type": "stream",
     "text": [
      "1\n",
      "turn:\t0\n",
      "score:\t0\n",
      "4613.\n",
      "2.@75\n",
      "66663\n",
      "41372\n",
      "11652\n",
      "\n",
      "turn:\t1\n",
      "score:\t7\n",
      "4613.\n",
      "2..@5\n",
      "66663\n",
      "41372\n",
      "11652\n",
      "\n",
      "turn:\t2\n",
      "score:\t13\n",
      "4613.\n",
      "2...5\n",
      "666@3\n",
      "41372\n",
      "11652\n",
      "\n",
      "turn:\t3\n",
      "score:\t20\n",
      "4613.\n",
      "2...5\n",
      "666.3\n",
      "413@2\n",
      "11652\n",
      "\n",
      "turn:\t4\n",
      "score:\t25\n",
      "4613.\n",
      "2...5\n",
      "666.3\n",
      "413.2\n",
      "116@2\n",
      "\n",
      "turn:\t5\n",
      "score:\t31\n",
      "4613.\n",
      "2...5\n",
      "666.3\n",
      "413.2\n",
      "11@.2\n",
      "\n",
      "31\n"
     ]
    }
   ],
   "source": [
    "H = \"5\"\n",
    "W = \"5\"\n",
    "END_TURN = \"5\"\n",
    "seed = \"121321\"\n",
    "beam_width = \"2\"\n",
    "beam_depth = END_TURN\n",
    "is_tracking = \"1\" # 盤面を出力する場合に 1 \n",
    "\n",
    "for line in execute_cpp_get_lines(\"beamSearch.cpp\", [H, W, END_TURN, seed, beam_width, beam_depth, is_tracking]):\n",
    "    sys.stdout.write(line.decode('utf-8'))"
   ]
  },
  {
   "cell_type": "markdown",
   "id": "558d3a7c-463e-4e70-9907-b29a1e483ab3",
   "metadata": {},
   "source": [
    "### ビームサーチの平均点を計算"
   ]
  },
  {
   "cell_type": "code",
   "execution_count": 135,
   "id": "71fd7c97-a1e3-4dcb-bdd3-3de5a9f14845",
   "metadata": {
    "tags": []
   },
   "outputs": [
    {
     "name": "stdout",
     "output_type": "stream",
     "text": [
      "100回ゲームを繰り返した際の平均スコア 685.84\n"
     ]
    }
   ],
   "source": [
    "from numpy.random import MT19937, Generator\n",
    "H = \"30\"\n",
    "W = \"30\"\n",
    "END_TURN = \"100\"\n",
    "\n",
    "beam_width = \"5\"\n",
    "beam_depth = END_TURN\n",
    "is_tracking = \"0\" # 盤面を出力する場合に 1 、そうでない場合は 0\n",
    "\n",
    "# コンパイル\n",
    "exe_file = compile_cpp(\"beamSearch.cpp\")\n",
    "# 乱数生成器\n",
    "rg_mt = Generator(MT19937())\n",
    "\n",
    "# ゲームを繰り返す回数\n",
    "game_number = 100\n",
    "\n",
    "score_sum = 0\n",
    "for i in range(game_number):\n",
    "    seed = str(int(str(rg_mt.random())[2:]))\n",
    "    res = execute_cpp(exe_file, [H, W, END_TURN, seed, beam_width, beam_depth, is_tracking])\n",
    "    game_score = int(res.stdout.decode('utf-8').replace('\\n', ''))\n",
    "    score_sum += game_score\n",
    "\n",
    "print(\"{}回ゲームを繰り返した際の平均スコア {}\".format(game_number, score_sum/game_number))"
   ]
  },
  {
   "cell_type": "code",
   "execution_count": null,
   "id": "447f1d51-c01a-4782-b29f-ea6f3211bd70",
   "metadata": {},
   "outputs": [],
   "source": []
  }
 ],
 "metadata": {
  "kernelspec": {
   "display_name": "Python 3 (ipykernel)",
   "language": "python",
   "name": "python3"
  },
  "language_info": {
   "codemirror_mode": {
    "name": "ipython",
    "version": 3
   },
   "file_extension": ".py",
   "mimetype": "text/x-python",
   "name": "python",
   "nbconvert_exporter": "python",
   "pygments_lexer": "ipython3",
   "version": "3.10.6"
  }
 },
 "nbformat": 4,
 "nbformat_minor": 5
}
