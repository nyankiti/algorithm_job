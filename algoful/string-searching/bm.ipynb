{
 "cells": [
  {
   "cell_type": "markdown",
   "source": [
    "# ボイヤー・ムーア法 (BM法) \n",
    "https://algoful.com/Archive/Algorithm/BMSearch\n",
    "\n",
    "ボイヤー・ムーア法 (BM法) は文字列探索アルゴリズムの一種で、発明者2名の名前を冠しています。  \n",
    "KMP法と同様に、予め余計な探索をを行わなくて済むようにずらし表を作成する必要があります。  \n",
    "KMP法では理論上高速とされるわりに実用上速度が出にくいという欠点がありましたが、BM法は実用上高速に動作するとされています。  \n",
    "\n",
    "## KMP法との違い\n",
    "KMP法との大きな違いは、探索するパターン文字列の先頭ではなく、**末尾から照合**を行うという点にあります。  \n",
    "例えば末尾が一致しなければ、パターン文字数分一気に探索位置を飛ばすことができるかもしれません。  "
   ],
   "metadata": {}
  },
  {
   "cell_type": "markdown",
   "source": [
    "### BM法で用いるずらし表\n",
    "単純にパターン文字列の末尾からの距離で表します。  \n",
    "ただし、同じ文字が出てくる場合、より後ろの位置(ずらす大きさが小さい値)を優先します。  \n",
    "したがってパターン文字列 \"ABBC\" の場合、次のようになります。\n",
    "\n",
    "\n",
    "各文字の末尾からの距離は次のようになるので、これの各文字での最小値をとったものがずらし表となります。\n",
    "\n",
    "\n",
    "|A|B|B|C|\n",
    "|---|---|---|---|\n",
    "|3|2|1|0|"
   ],
   "metadata": {}
  },
  {
   "cell_type": "code",
   "execution_count": 9,
   "source": [
    "from typing import Dict\n",
    "\n",
    "def make_bm_table(pattern: str) -> Dict:\n",
    "    pattern_len = len(pattern)\n",
    "    table = {}\n",
    "    for i in range(pattern_len):\n",
    "        table[pattern[i]] = pattern_len - i - 1\n",
    "    return table"
   ],
   "outputs": [],
   "metadata": {}
  },
  {
   "cell_type": "code",
   "execution_count": 10,
   "source": [
    "def bm_serach(target, pattern):\n",
    "    table = make_bm_table(pattern)\n",
    "    pattern_len = len(pattern)\n",
    "    target_len = len(target)\n",
    "\n",
    "    i, p = pattern_len-1, 0\n",
    "\n",
    "    while i < target_len:\n",
    "        # パターン末尾に位置を合わせる\n",
    "        p = pattern_len - 1\n",
    "\n",
    "        while p >= 0:\n",
    "            if target[i] == pattern[p]:\n",
    "                p -= 1\n",
    "                i -= 1\n",
    "            else:\n",
    "                break\n",
    "\n",
    "        if p < 0:\n",
    "            return i + 1\n",
    "\n",
    "        shift_1 = table.get(pattern[p], pattern_len)\n",
    "        shift_2 = pattern_len - p\n",
    "        i += max(shift_1, shift_2)\n",
    "\n",
    "    return -1"
   ],
   "outputs": [],
   "metadata": {}
  },
  {
   "cell_type": "code",
   "execution_count": 11,
   "source": [
    "bm_serach(\"AAAXABAABBCAC\",\"ABBC\")"
   ],
   "outputs": [
    {
     "output_type": "execute_result",
     "data": {
      "text/plain": [
       "7"
      ]
     },
     "metadata": {},
     "execution_count": 11
    }
   ],
   "metadata": {}
  },
  {
   "cell_type": "code",
   "execution_count": null,
   "source": [],
   "outputs": [],
   "metadata": {}
  }
 ],
 "metadata": {
  "orig_nbformat": 4,
  "language_info": {
   "name": "python",
   "version": "3.8.9",
   "mimetype": "text/x-python",
   "codemirror_mode": {
    "name": "ipython",
    "version": 3
   },
   "pygments_lexer": "ipython3",
   "nbconvert_exporter": "python",
   "file_extension": ".py"
  },
  "kernelspec": {
   "name": "python3",
   "display_name": "Python 3.8.9 64-bit"
  },
  "interpreter": {
   "hash": "31f2aee4e71d21fbe5cf8b01ff0e069b9275f58929596ceb00d14d90e3e16cd6"
  }
 },
 "nbformat": 4,
 "nbformat_minor": 2
}