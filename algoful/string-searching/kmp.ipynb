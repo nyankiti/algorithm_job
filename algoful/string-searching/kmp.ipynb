{
 "cells": [
  {
   "cell_type": "markdown",
   "source": [
    "# クヌース–モリス–プラット法 (KMP法)\n",
    "https://algoful.com/Archive/Algorithm/KMPSearch\n",
    "\n",
    "クヌース–モリス–プラット法 (KMP法) は文字列探索アルゴリズムの一種で、発明者3名の名前を冠しています。   \n",
    "力まかせ探索に比べ、余計な探索(比較)をしないような工夫をすることで、計算量 O(N) を実現します。  \n",
    "\n",
    "このアルゴリズムでは、複数回文字への探索(比較)をしないようにあらかじめ、部分マッチ用の表を作成しておく必要があります。  \n",
    "この前処理や複雑な処理のせいで単純な力まかせ探索に比べ、余計なオーバーヘッドが発生し、  \n",
    "実用上力まかせ探索より処理速度が遅くなったりもします。ですが理論上は高速です。  "
   ],
   "metadata": {}
  },
  {
   "cell_type": "markdown",
   "source": [
    "### KMP法で用いるずらし表の\n",
    "\n",
    "パターン文字列(一致してほしいキーワード)において、不一致になった文字(位置)ごとに、\n",
    "パターン文字の比較再開位置(ずらし位置)を保持した対照表を用意しなければなりません。これを**ずらし表**と呼ぶことにします。"
   ],
   "metadata": {}
  },
  {
   "cell_type": "code",
   "execution_count": 9,
   "source": [
    "def make_kmp_table(pattern: str):\n",
    "    len_p = len(pattern)\n",
    "    table = [0] * (len_p)\n",
    "\n",
    "    # 一致する数をjに格納\n",
    "    j = 0\n",
    "\n",
    "    for i in range(1, len_p):\n",
    "        if pattern[i] == pattern[j]:\n",
    "            table[i] = j\n",
    "            j += 1\n",
    "        else:\n",
    "            table[i] = j\n",
    "            j = 0\n",
    "\n",
    "    return table"
   ],
   "outputs": [],
   "metadata": {}
  },
  {
   "cell_type": "code",
   "execution_count": 10,
   "source": [
    "def kmp(target, pattern):\n",
    "    kmp_table = make_kmp_table(pattern)\n",
    "\n",
    "    i, p = 0, 0\n",
    "    while i < len(target) and p < len(pattern):\n",
    "        if target[i] == pattern[p]:\n",
    "            # 文字が一致していれば次に進む\n",
    "            i += 1\n",
    "            p += 1\n",
    "        elif p == 0:\n",
    "            # パターンの先頭において不一致の場合、kmp_tableを使うまでもなく次の比較に進む\n",
    "            i += 1\n",
    "        else:\n",
    "            # patternのうち、いくつかが一致した後に不一致となった場合、kmp_tableによってずらした位置から比較を再開する\n",
    "            p = kmp_table[p]\n",
    "\n",
    "    if p == len(pattern):\n",
    "        return i - p\n",
    "    return -1\n"
   ],
   "outputs": [],
   "metadata": {}
  },
  {
   "cell_type": "code",
   "execution_count": 13,
   "source": [
    "target = \"AABABBABABCAB\"\n",
    "pattern = \"ABABCA\"\n",
    "\n",
    "kmp(target, pattern)\n"
   ],
   "outputs": [
    {
     "output_type": "execute_result",
     "data": {
      "text/plain": [
       "6"
      ]
     },
     "metadata": {},
     "execution_count": 13
    }
   ],
   "metadata": {}
  },
  {
   "cell_type": "code",
   "execution_count": null,
   "source": [],
   "outputs": [],
   "metadata": {}
  }
 ],
 "metadata": {
  "orig_nbformat": 4,
  "language_info": {
   "name": "python",
   "version": "3.8.9",
   "mimetype": "text/x-python",
   "codemirror_mode": {
    "name": "ipython",
    "version": 3
   },
   "pygments_lexer": "ipython3",
   "nbconvert_exporter": "python",
   "file_extension": ".py"
  },
  "kernelspec": {
   "name": "python3",
   "display_name": "Python 3.8.9 64-bit"
  },
  "interpreter": {
   "hash": "31f2aee4e71d21fbe5cf8b01ff0e069b9275f58929596ceb00d14d90e3e16cd6"
  }
 },
 "nbformat": 4,
 "nbformat_minor": 2
}