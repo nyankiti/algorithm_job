{
 "cells": [
  {
   "cell_type": "markdown",
   "source": [
    "# 棒倒し法(迷路生成アルゴリズム)\n",
    "\n",
    "ここで生成される迷路とは、2 次元配列に 0 と 1 で構成されます。1 が通れない壁部分で 0 が通れる通路部分を意味します。\n",
    "\n",
    "```text\n",
    "1111111\n",
    "1000001\n",
    "1010111\n",
    "1010001\n",
    "1011101\n",
    "1010001\n",
    "1111111\n",
    "```\n",
    "\n",
    "迷路の成立条件として、以下の二つがある\n",
    "\n",
    "1. 外の通路につながらない死に領域(閉じた領域)がない\n",
    "2. 通路がループにならない\n",
    "\n",
    "# 棒倒し法の手順\n",
    "\n",
    "1. 迷路全体を構成する 2 次元配列を、幅高さ 5 以上の奇数で生成します。\n",
    "2. 迷路の外周を壁とし、それ以外を通路とします。\n",
    "3. 外周の内側に基準となる壁(棒)を 1 セルおき(x, y ともに偶数の座標)に配置します。\n",
    "4. 内側の壁(棒)を走査し、ランダムな方向に倒して壁とします。(ただし以下に当てはまる方向以外に倒します。)\n",
    "   - 1 行目の内側の壁以外では上方向に倒してはいけない。\n",
    "   - すでに棒が倒され壁になっている場合、その方向には倒してはいけない。\n"
   ],
   "metadata": {}
  },
  {
   "cell_type": "code",
   "execution_count": 26,
   "source": [
    "import random\n",
    "\n",
    "\n",
    "def maze_generator_bar(size):\n",
    "    path = \"_\"\n",
    "    wall = \"■\"\n",
    "\n",
    "    # サイズが5未満では迷路を生成できない(壁と繋がってしまうため)\n",
    "    if size < 5:\n",
    "        size = 5\n",
    "    if size % 2 == 0:\n",
    "        size += 1\n",
    "\n",
    "    maze = [[\"\"] * (size) for _ in range(size)]\n",
    "\n",
    "    # 迷路の枠の作成\n",
    "    for row in range(size):\n",
    "        for col in range(size):\n",
    "            if row == 0 or col == 0 or row == size - 1 or col == size - 1:\n",
    "                maze[row][col] = wall\n",
    "            else:\n",
    "                maze[row][col] = path\n",
    "\n",
    "    # 棒倒しによって壁を生成\n",
    "    for row in range(2, size - 1, 2):\n",
    "        for col in range(2, size - 1, 2):\n",
    "            # まず棒を立てる\n",
    "            maze[row][col] = wall\n",
    "\n",
    "            # ランダムな方向に棒を倒す\n",
    "            while True:\n",
    "                wall_row = row\n",
    "                wall_col = col\n",
    "\n",
    "                d = random.randint(0, 3)\n",
    "                if d == 0:\n",
    "                    wall_row += 1\n",
    "                elif d == 1:\n",
    "                    wall_row -= 1\n",
    "                elif d == 2:\n",
    "                    wall_col += 1\n",
    "                elif d == 3:\n",
    "                    wall_col -= 1\n",
    "\n",
    "                if maze[wall_row][wall_col] != wall:\n",
    "                    maze[wall_row][wall_col] = wall\n",
    "                    break\n",
    "\n",
    "    # 迷路の出力\n",
    "    for row in maze:\n",
    "        print(*row)\n",
    "\n",
    "\n",
    "maze_generator_bar(15)"
   ],
   "outputs": [
    {
     "output_type": "stream",
     "name": "stdout",
     "text": [
      "■ ■ ■ ■ ■ ■ ■ ■ ■ ■ ■ ■ ■ ■ ■\n",
      "■ _ _ _ _ _ _ _ _ _ ■ _ _ _ ■\n",
      "■ ■ ■ ■ ■ _ ■ ■ ■ ■ ■ _ ■ ■ ■\n",
      "■ _ _ _ ■ _ ■ _ _ _ ■ _ _ _ ■\n",
      "■ _ ■ ■ ■ _ ■ _ ■ ■ ■ _ ■ _ ■\n",
      "■ _ _ _ _ _ ■ _ _ _ _ _ ■ _ ■\n",
      "■ ■ ■ ■ ■ _ ■ _ ■ _ ■ ■ ■ _ ■\n",
      "■ _ _ _ _ _ _ _ ■ _ ■ _ _ _ ■\n",
      "■ _ ■ ■ ■ ■ ■ _ ■ ■ ■ _ ■ ■ ■\n",
      "■ _ _ _ ■ _ ■ _ _ _ ■ _ _ _ ■\n",
      "■ _ ■ ■ ■ ■ ■ _ ■ ■ ■ ■ ■ _ ■\n",
      "■ _ _ _ _ _ _ _ ■ _ ■ _ _ _ ■\n",
      "■ _ ■ _ ■ ■ ■ _ ■ ■ ■ ■ ■ _ ■\n",
      "■ _ ■ _ ■ _ _ _ _ _ _ _ _ _ ■\n",
      "■ ■ ■ ■ ■ ■ ■ ■ ■ ■ ■ ■ ■ ■ ■\n"
     ]
    }
   ],
   "metadata": {}
  },
  {
   "cell_type": "code",
   "execution_count": null,
   "source": [],
   "outputs": [],
   "metadata": {}
  }
 ],
 "metadata": {
  "orig_nbformat": 4,
  "language_info": {
   "name": "python",
   "version": "3.8.9",
   "mimetype": "text/x-python",
   "codemirror_mode": {
    "name": "ipython",
    "version": 3
   },
   "pygments_lexer": "ipython3",
   "nbconvert_exporter": "python",
   "file_extension": ".py"
  },
  "kernelspec": {
   "name": "python3",
   "display_name": "Python 3.8.9 64-bit"
  },
  "interpreter": {
   "hash": "31f2aee4e71d21fbe5cf8b01ff0e069b9275f58929596ceb00d14d90e3e16cd6"
  }
 },
 "nbformat": 4,
 "nbformat_minor": 2
}