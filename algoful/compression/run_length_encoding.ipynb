{
 "cells": [
  {
   "cell_type": "markdown",
   "source": [
    "## 可逆圧縮\n",
    "\n",
    "圧縮後のデータから、元のデータを完全に再現できる圧縮アルゴリズムです。  \n",
    "代表的なものには ランレングス圧縮(連長圧縮) や ハフマン符号 があげられます。\n",
    "\n",
    "## 非可逆圧縮\n",
    "\n",
    "圧縮後のデータから、元のデータを完全に復元できない圧縮アルゴリズムです。  \n",
    "画像や映像、音声など、人間の認知特性上伝わりずらい部分を大幅に減らし、重要となる部分の情報を多く残すようなアルゴリズムになります。  \n",
    "逆に一部でも異なれば情報として価値がなくなるもの(テキストデータなど)にはあまり利用されません。\n",
    "\n",
    "画像では JPEG 形式、音声だと MP3 形式などが代表的なアルゴリズムとしてあげられます。\n"
   ],
   "metadata": {}
  },
  {
   "cell_type": "markdown",
   "source": [
    "# ランレングス圧縮(連長圧縮) RLE: Run Length Encoding\n",
    "\n",
    "ある連続したデータをデータ 1 つ分と連続した長さで表して圧縮します。例えば \"AAAAA\" を \"A\" が 5 回続くデータなので、 \"A5\" という風に圧縮します。\n",
    "\n",
    "FAX や単純な画像データについて利用されるアルゴリズムです。\n",
    "\n",
    "<br>\n",
    "\n",
    "1 つのデータが長く続くデータや、そもそも出現するデータの種類が少ないデータなどは、圧縮効率が高くなる傾向にあります。  \n",
    "逆に、データがあまり連続しないデータについては、圧縮効率が悪いどころか圧縮前よりデータサイズが大きくなってしまうこともあります。  \n",
    "例えば \"ABCDE\" という 5 文字を「データ \\* 連続回数」の形に変換すると \"A1B1C1D1E1\" となり 2 倍のサイズになってしまいます。\n"
   ],
   "metadata": {}
  },
  {
   "cell_type": "markdown",
   "source": [
    "# PickBits\n",
    "\n",
    "ランレングス圧縮は連続しないデータ部分の圧縮効率が悪いどころか、逆にデータ量が増えてしまいます。  \n",
    "その欠点を改良したものが、**PickBits** と呼ばれるアルゴリズムです。  \n",
    "基本的な考え方は変わらないのですが、連続しないデータ部分が続く部分をフラグ管理することで圧縮率を高めます。\n",
    "\n",
    "<br>\n",
    "\n",
    "\"AAABCDEE\" という文字を通常のランレングス圧縮で圧縮すると、\"A3B1C1D1E2\" となり元のデータより大きなデータになってしまいます。  \n",
    "これを PickBits では次のように圧縮します。\n",
    "\n",
    "\"A3-3BCDE2\"\n",
    "\n",
    "PickBits では連続しないデータが続く部分についてカウントし、「-(カウント) + 連続しないデータ」として表現します。  \n",
    "上記の例では \"-3BCD\" の部分に該当します。これは 3 つのデータ \"B\", \"C\", \"D\" について連続しない(つまり 1 文字のみ)という意味になります。\n"
   ],
   "metadata": {}
  },
  {
   "cell_type": "code",
   "execution_count": 16,
   "source": [
    "\n",
    "def run_length_encode(S: str):\n",
    "    result = []\n",
    "\n",
    "    prev = S[0]\n",
    "    count = 0\n",
    "    for char in S:\n",
    "        if prev == char:\n",
    "            count += 1\n",
    "        else:\n",
    "            result.append((prev, count))\n",
    "            prev = char\n",
    "            count = 1\n",
    "    result.append((prev, count))\n",
    "\n",
    "    return result\n",
    "\n",
    "\n",
    "def run_length_decode(li):\n",
    "    result = \"\"\n",
    "    for char, count in li:\n",
    "        result += char * count\n",
    "\n",
    "    return result\n",
    "\n",
    "\n",
    "plain_text = \"AAAAADDSSDDDBCDEE\"\n",
    "encoded = run_length_encode(plain_text)\n",
    "decoded = run_length_decode(encoded)\n",
    "print(\"plain text:\", plain_text)\n",
    "print(\"decoded:\", encoded)\n",
    "print(\"encoded:\", decoded)\n"
   ],
   "outputs": [
    {
     "output_type": "stream",
     "name": "stdout",
     "text": [
      "plain text: AAAAADDSSDDDBCDEE\n",
      "decoded: [('A', 5), ('D', 2), ('S', 2), ('D', 3), ('B', 1), ('C', 1), ('D', 1), ('E', 2)]\n",
      "encoded: AAAAADDSSDDDBCDEE\n"
     ]
    }
   ],
   "metadata": {}
  },
  {
   "cell_type": "code",
   "execution_count": 37,
   "source": [
    "\n",
    "def pick_bits_encode(S: str):\n",
    "    res = []\n",
    "\n",
    "    prev = S[0]\n",
    "    count = 0\n",
    "    for char in S:\n",
    "        if prev == char:\n",
    "            count += 1\n",
    "        else:\n",
    "            res.append((prev, count))\n",
    "            prev = char\n",
    "            count = 1\n",
    "    res.append((prev, count))\n",
    "\n",
    "\n",
    "    one_count = 0\n",
    "    pick_chars = \"\"\n",
    "    ans = \"\"\n",
    "    for char, count in res:\n",
    "        if count == 1:\n",
    "            one_count += 1\n",
    "            pick_chars += char\n",
    "        else:\n",
    "            if one_count > 1:\n",
    "                ans += \"-\"+str(one_count)+pick_chars\n",
    "                pick_chars = \"\"\n",
    "            one_count = 0\n",
    "\n",
    "            ans += char+str(count) \n",
    "\n",
    "    return ans\n",
    "\n",
    "\n",
    "\n",
    "\n",
    "\n",
    "def pick_bits_decode(code: str):\n",
    "    result = \"\"\n",
    "    # for char, count in li:\n",
    "    #     result += char * count\n",
    "    \n",
    "    i = 0\n",
    "    while i < len(code):\n",
    "        if code[i] == \"-\":\n",
    "            num = int(code[i+1])\n",
    "            result += code[i+2:i+2+num]\n",
    "            i+=num+2\n",
    "        else:\n",
    "            result += code[i]*int(code[i+1])\n",
    "            i+= 2\n",
    "\n",
    "    return result\n",
    "\n",
    "\n",
    "plain_text = \"AAABCDEEFRDDERWFADEEEEE\"\n",
    "encoded = pick_bits_encode(plain_text)\n",
    "decoded = pick_bits_decode(encoded)\n",
    "print(\"plain text:\", plain_text)\n",
    "print(\"decoded:\", encoded)\n",
    "print(\"encoded:\", decoded)"
   ],
   "outputs": [
    {
     "output_type": "stream",
     "name": "stdout",
     "text": [
      "plain text: AAABCDEEFRDDERWFADEEEEE\n",
      "decoded: A3-3BCDE2-2FRD2-6ERWFADE5\n",
      "encoded: AAABCDEEFRDDERWFADEEEEE\n"
     ]
    }
   ],
   "metadata": {}
  },
  {
   "cell_type": "code",
   "execution_count": null,
   "source": [],
   "outputs": [],
   "metadata": {}
  },
  {
   "cell_type": "code",
   "execution_count": null,
   "source": [],
   "outputs": [],
   "metadata": {}
  }
 ],
 "metadata": {
  "orig_nbformat": 4,
  "language_info": {
   "name": "python",
   "version": "3.8.9",
   "mimetype": "text/x-python",
   "codemirror_mode": {
    "name": "ipython",
    "version": 3
   },
   "pygments_lexer": "ipython3",
   "nbconvert_exporter": "python",
   "file_extension": ".py"
  },
  "kernelspec": {
   "name": "python3",
   "display_name": "Python 3.8.9 64-bit"
  },
  "interpreter": {
   "hash": "31f2aee4e71d21fbe5cf8b01ff0e069b9275f58929596ceb00d14d90e3e16cd6"
  }
 },
 "nbformat": 4,
 "nbformat_minor": 2
}