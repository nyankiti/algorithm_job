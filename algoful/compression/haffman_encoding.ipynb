{
 "cells": [
  {
   "cell_type": "markdown",
   "source": [
    "## 可逆圧縮\n",
    "圧縮後のデータから、元のデータを完全に再現できる圧縮アルゴリズムです。  \n",
    "代表的なものには ランレングス圧縮(連長圧縮) や ハフマン符号 があげられます。\n",
    "\n",
    "## 非可逆圧縮\n",
    "圧縮後のデータから、元のデータを完全に復元できない圧縮アルゴリズムです。  \n",
    "画像や映像、音声など、人間の認知特性上伝わりずらい部分を大幅に減らし、重要となる部分の情報を多く残すようなアルゴリズムになります。  \n",
    "逆に一部でも異なれば情報として価値がなくなるもの(テキストデータなど)にはあまり利用されません。  \n",
    "\n",
    "画像では JPEG 形式、音声だと MP3 形式などが代表的なアルゴリズムとしてあげられます。"
   ],
   "metadata": {}
  },
  {
   "cell_type": "markdown",
   "source": [
    "# ハフマン符号\n",
    "データの出現頻度に偏りを見出し、圧縮に利用する  \n",
    "<br>\n",
    "デビット・ハフマンによって開発された符号で、データの可逆圧縮に利用されます。  \n",
    "出現頻度の高いデータに短いビット列を、逆に出現頻度の低いデータに長いビット列を割り当てることで、データ全体でのデータ量の削減を実現します。  \n",
    "<br>\n",
    "ハフマン符号のアルゴリズムは古典的(代表的)な圧縮アルゴリズムであり、ZIPやJPEGといった圧縮フォーマットでも利用されています。\n",
    "\n",
    "## 静的ハフマン符号\n",
    "1回目の走査で出現頻度を調べ、2回目の走査でデータを符号に置き換える O(N^2) の計算量を要する変換アルゴリズムを用いたハフマン符号\n",
    "\n",
    "## 動的ハフマン符号\n",
    "出現頻度を調べながら、動的に符号を割り当てていくアルゴリズムを用いたハフマン符号"
   ],
   "metadata": {}
  },
  {
   "cell_type": "markdown",
   "source": [
    "## 接頭符号\n",
    "ハフマン符号は**接頭符号**と呼ばれる符号の一種。  \n",
    "接頭符号とは、任意の符号が他の符号の接頭部にならないような符号のこと。  \n",
    "```\n",
    "0\n",
    "10\n",
    "111\n",
    "1100\n",
    "1101\n",
    "```\n",
    "上の符号は、どの符号も他の符号と先頭(接頭部)で一致しないので、接頭符号の条件を満たしている。\n",
    "\n",
    "<br>\n",
    "\n",
    "可変長符号が接頭符号であるということは、**一意複合可能**と **瞬時復号可能**という2つの性質を与えてくれます。\n",
    "\n",
    "### 一意復号可能\n",
    "ある圧縮されたデータを復号する際に復号結果が一意に定まるということです。  \n",
    "例えば \"0\", \"1\", \"01\" となる可変長符号で構成されるデータ \"01\" を復号する場合、\"0 1\" となるか、\"01\" となるか一意に決めることができません。  \n",
    "これは一意複合可能ではない。\n",
    "\n",
    "\n",
    "### 瞬時復号可能\n",
    "ある圧縮されたデータがビット列として与えられた場合に、各符号の最後のビットが読み込まれた時点でその符号を確定できるというような性質です。  \n",
    "ビット列を最後まで読まなくても先頭から順に復号していくことができるという意味で、瞬時復号可能といいます。  \n",
    "瞬時復号可能ではない符号では、復号処理が複雑になり効率性に影響してしまいます。\n"
   ],
   "metadata": {}
  },
  {
   "cell_type": "markdown",
   "source": [
    "# 符号化アルゴリズム\n",
    "ハフマン符号を得るために、*ハフマン木*と言う二分木を作成する必要がある。  \n",
    "生成したハフマン木を辿ることで符号化を行える。  "
   ],
   "metadata": {}
  },
  {
   "cell_type": "markdown",
   "source": [],
   "metadata": {}
  },
  {
   "cell_type": "markdown",
   "source": [
    "python実装参考サイト：https://k-yuya.hatenablog.com/entry/2018/07/18/231731"
   ],
   "metadata": {}
  },
  {
   "cell_type": "code",
   "execution_count": 15,
   "source": [
    "from collections import Counter\n",
    "\n",
    "\n",
    "class Node: #葉を表すクラス\n",
    "    def __init__(self, value=None, count=None, left=None, right=None):\n",
    "        self.value = value\n",
    "        self.left = left\n",
    "        self.right = right\n",
    "        self.count = count\n",
    "\n",
    "\n",
    "class Huffman:\n",
    "    def __init__(self) -> None:\n",
    "        self.encode_dict = {}\n",
    "        self.decode_dict = {}\n",
    "\n",
    "    def encode(self, plane_data):\n",
    "        unique_data = set(plane_data)\n",
    "        counter = Counter(plane_data)\n",
    "        \n",
    "        # 出現回数を保持したnodeを生成\n",
    "        nodes = []\n",
    "\n",
    "        for val in unique_data:\n",
    "            node_obj = Node(value=val, count=counter[val])\n",
    "            nodes.append(node_obj)\n",
    "\n",
    "        # Huffman木の生成\n",
    "        temp = []\n",
    "        while len(nodes) >= 2:\n",
    "            for v in range(2):\n",
    "                elem = min(nodes, key=lambda x: x.count)\n",
    "                temp.append(elem)\n",
    "                nodes.remove(elem)\n",
    "            new_node = Node(value=None, count=temp[0].count + temp[1].count, left=temp[0], right=temp[1])\n",
    "            temp = []\n",
    "            nodes.append(new_node)\n",
    "\n",
    "        self.trace_tree(nodes[0], \"\")\n",
    "        \n",
    "        result = \"\"\n",
    "        for v in plane_data:\n",
    "            result += self.encode_dict[v]\n",
    "\n",
    "        return result\n",
    "\n",
    "    # Huffman木を辿って、それぞれの文字毎にHuffman符号を割り当て.encode_dictに保存する\n",
    "    def trace_tree(self, node, s):\n",
    "        if not isinstance(node, Node):\n",
    "            return\n",
    "\n",
    "        if node.value:\n",
    "            print(node.value, node.count, s)\n",
    "            self.encode_dict[node.value] = s\n",
    "            self.decode_dict[s] = node.value\n",
    "        \n",
    "        self.trace_tree(node.right, s+\"0\")\n",
    "        self.trace_tree(node.left, s+\"1\")\n",
    "\n",
    "\n",
    "    def decode(self, encoded_data):\n",
    "        assert(self.decode_dict)\n",
    "        result = \"\"\n",
    "        s = \"\"\n",
    "        for bit in encoded_data:\n",
    "            s += bit\n",
    "            if s in self.decode_dict:\n",
    "                result += self.decode_dict[s]\n",
    "                s = \"\"\n",
    "        return result\n",
    "\n",
    "\n",
    "\n",
    "h = Huffman()\n",
    "encoded = h.encode(\"AAABBCDE\")\n",
    "print(encoded, len(encoded))\n",
    "decoded = h.decode(encoded)\n",
    "print(decoded)"
   ],
   "outputs": [
    {
     "output_type": "stream",
     "name": "stdout",
     "text": [
      "A 3 00\n",
      "E 1 010\n",
      "C 1 011\n",
      "B 2 10\n",
      "D 1 11\n",
      "000000101001111010 18\n",
      "AAABBCDE\n"
     ]
    }
   ],
   "metadata": {}
  },
  {
   "cell_type": "code",
   "execution_count": null,
   "source": [],
   "outputs": [],
   "metadata": {}
  }
 ],
 "metadata": {
  "orig_nbformat": 4,
  "language_info": {
   "name": "python",
   "version": "3.8.9",
   "mimetype": "text/x-python",
   "codemirror_mode": {
    "name": "ipython",
    "version": 3
   },
   "pygments_lexer": "ipython3",
   "nbconvert_exporter": "python",
   "file_extension": ".py"
  },
  "kernelspec": {
   "name": "python3",
   "display_name": "Python 3.8.9 64-bit"
  },
  "interpreter": {
   "hash": "31f2aee4e71d21fbe5cf8b01ff0e069b9275f58929596ceb00d14d90e3e16cd6"
  }
 },
 "nbformat": 4,
 "nbformat_minor": 2
}