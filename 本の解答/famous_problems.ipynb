{
 "metadata": {
  "language_info": {
   "codemirror_mode": {
    "name": "ipython",
    "version": 3
   },
   "file_extension": ".py",
   "mimetype": "text/x-python",
   "name": "python",
   "nbconvert_exporter": "python",
   "pygments_lexer": "ipython3",
   "version": "3.7.6-final"
  },
  "orig_nbformat": 2,
  "kernelspec": {
   "name": "python3",
   "display_name": "Python 3",
   "language": "python"
  }
 },
 "nbformat": 4,
 "nbformat_minor": 2,
 "cells": [
  {
   "source": [
    "# 座標圧縮問題\n",
    "座標の情報から、位置関係や大小関係だけ抽出するテクニック\n",
    "\n",
    "どの２つの要素も互いに相異なるN要素からなる数列が与えられている\n",
    "i = 0,1,2, ,,, N-1に対して$a_1$ が全体の中で何番目に小さい値であるかをO(NlogN)で求めるアルゴリズムを設計してくださいa = 12,43,7,15,9 のとき、答えは(2,4,0,3,1)となる"
   ],
   "cell_type": "markdown",
   "metadata": {}
  },
  {
   "cell_type": "code",
   "execution_count": null,
   "metadata": {},
   "outputs": [],
   "source": [
    "def compress(numbers: List)->List:\n",
    "    numbers = sort(numbers)\n",
    "    "
   ]
  }
 ]
}