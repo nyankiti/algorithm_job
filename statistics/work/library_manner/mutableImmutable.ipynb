{
 "cells": [
  {
   "cell_type": "code",
   "execution_count": 14,
   "id": "91f6462d-f06d-4b7d-84cd-75f2baaa8a4a",
   "metadata": {},
   "outputs": [
    {
     "name": "stdout",
     "output_type": "stream",
     "text": [
      "[1, 2, 3, 4]\n",
      "[1, 2, 3, 4]\n"
     ]
    }
   ],
   "source": [
    "def append_elem(list_param, elem=0):\n",
    "    list_param.append(elem)\n",
    "    return list_param\n",
    "\n",
    "list_a = [1,2,3]\n",
    "list_b = append_elem(list_a, 4)\n",
    "\n",
    "print(list_a)\n",
    "print(list_b)"
   ]
  },
  {
   "cell_type": "code",
   "execution_count": 13,
   "id": "3442742f-69d4-4cc8-b830-b03e1307be96",
   "metadata": {},
   "outputs": [
    {
     "name": "stdout",
     "output_type": "stream",
     "text": [
      "inner variable id: 281473700157936\n",
      "num_b id:          281473700157936\n",
      "num_a id:          281473700157840\n"
     ]
    }
   ],
   "source": [
    "def add_num(param, num=0):\n",
    "    param += num\n",
    "    print(\"inner variable id: \"+ str(id(param)))\n",
    "    return param\n",
    "\n",
    "num_a = 4\n",
    "num_b = add_num(num_a, num=3)\n",
    "\n",
    "print(\"num_b id:          \"+str(id(num_b)))\n",
    "print(\"num_a id:          \"+str(id(num_a)))"
   ]
  },
  {
   "cell_type": "code",
   "execution_count": null,
   "id": "d49fb5b9-552d-4674-97cd-8f8276b1230a",
   "metadata": {},
   "outputs": [],
   "source": []
  }
 ],
 "metadata": {
  "kernelspec": {
   "display_name": "Python 3 (ipykernel)",
   "language": "python",
   "name": "python3"
  },
  "language_info": {
   "codemirror_mode": {
    "name": "ipython",
    "version": 3
   },
   "file_extension": ".py",
   "mimetype": "text/x-python",
   "name": "python",
   "nbconvert_exporter": "python",
   "pygments_lexer": "ipython3",
   "version": "3.9.7"
  }
 },
 "nbformat": 4,
 "nbformat_minor": 5
}
