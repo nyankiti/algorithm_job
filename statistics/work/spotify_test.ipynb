{
 "cells": [
  {
   "cell_type": "code",
   "execution_count": 6,
   "id": "0c619a8a-2a55-40d4-953c-c58d356436c4",
   "metadata": {},
   "outputs": [],
   "source": [
    "from cleantext import clean"
   ]
  },
  {
   "cell_type": "code",
   "execution_count": 11,
   "id": "65a6f35e",
   "metadata": {},
   "outputs": [],
   "source": [
    "import spotipy"
   ]
  },
  {
   "cell_type": "code",
   "execution_count": 12,
   "id": "45992764",
   "metadata": {},
   "outputs": [
    {
     "name": "stdout",
     "output_type": "stream",
     "text": [
      "0 Say It Ain't So\n",
      "1 Island In The Sun\n",
      "2 Undone - The Sweater Song\n",
      "3 Buddy Holly\n",
      "4 Beverly Hills\n",
      "5 Africa\n",
      "6 Hash Pipe\n",
      "7 All My Favorite Songs (feat. AJR)\n",
      "8 My Name Is Jonas\n",
      "9 Enter Sandman\n",
      "10 Pork And Beans\n",
      "11 Lost in the Woods - Weezer Version\n",
      "12 Take on Me\n",
      "13 We Wish You A Merry Christmas\n",
      "14 All My Favorite Songs\n",
      "15 All My Favorite Songs\n",
      "16 Pink Triangle\n",
      "17 All My Favorite Songs\n",
      "18 (If You're Wondering If I Want You To) I Want You To\n",
      "19 O Come All Ye Faithful\n"
     ]
    }
   ],
   "source": [
    "from spotipy.oauth2 import SpotifyClientCredentials\n",
    "\n",
    "sp = spotipy.Spotify(auth_manager=SpotifyClientCredentials(client_id=\"250d4f4d32a84cfc9d5fdb6b9db392c4\",\n",
    "                                                           client_secret=\"f7a8fb0e9f084b1aa0d1823981502b32\"))\n",
    "\n",
    "results = sp.search(q='weezer', limit=20)\n",
    "for idx, track in enumerate(results['tracks']['items']):\n",
    "    print(idx, track['name'])"
   ]
  },
  {
   "cell_type": "code",
   "execution_count": null,
   "id": "2412774c",
   "metadata": {},
   "outputs": [],
   "source": []
  },
  {
   "cell_type": "code",
   "execution_count": null,
   "id": "b35128a4",
   "metadata": {},
   "outputs": [],
   "source": []
  }
 ],
 "metadata": {
  "kernelspec": {
   "display_name": "Python 3 (ipykernel)",
   "language": "python",
   "name": "python3"
  },
  "language_info": {
   "codemirror_mode": {
    "name": "ipython",
    "version": 3
   },
   "file_extension": ".py",
   "mimetype": "text/x-python",
   "name": "python",
   "nbconvert_exporter": "python",
   "pygments_lexer": "ipython3",
   "version": "3.9.7"
  }
 },
 "nbformat": 4,
 "nbformat_minor": 5
}
