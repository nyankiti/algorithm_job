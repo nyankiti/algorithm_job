{
 "cells": [
  {
   "cell_type": "code",
   "execution_count": 2,
   "id": "47beb37d",
   "metadata": {},
   "outputs": [
    {
     "name": "stdout",
     "output_type": "stream",
     "text": [
      "Collecting spotipy\n",
      "  Downloading spotipy-2.19.0-py3-none-any.whl (27 kB)\n",
      "Requirement already satisfied: six>=1.15.0 in /Users/sodakentaro/opt/anaconda3/envs/ds_env/lib/python3.9/site-packages (from spotipy) (1.16.0)\n",
      "Collecting urllib3>=1.26.0\n",
      "  Downloading urllib3-1.26.7-py2.py3-none-any.whl (138 kB)\n",
      "\u001b[K     |████████████████████████████████| 138 kB 4.5 MB/s eta 0:00:01\n",
      "\u001b[?25hCollecting requests>=2.25.0\n",
      "  Downloading requests-2.26.0-py2.py3-none-any.whl (62 kB)\n",
      "\u001b[K     |████████████████████████████████| 62 kB 5.9 MB/s  eta 0:00:01\n",
      "\u001b[?25hCollecting idna<4,>=2.5\n",
      "  Downloading idna-3.3-py3-none-any.whl (61 kB)\n",
      "\u001b[K     |████████████████████████████████| 61 kB 36.9 MB/s eta 0:00:01\n",
      "\u001b[?25hRequirement already satisfied: certifi>=2017.4.17 in /Users/sodakentaro/opt/anaconda3/envs/ds_env/lib/python3.9/site-packages (from requests>=2.25.0->spotipy) (2021.10.8)\n",
      "Collecting charset-normalizer~=2.0.0\n",
      "  Downloading charset_normalizer-2.0.9-py3-none-any.whl (39 kB)\n",
      "Installing collected packages: urllib3, idna, charset-normalizer, requests, spotipy\n",
      "Successfully installed charset-normalizer-2.0.9 idna-3.3 requests-2.26.0 spotipy-2.19.0 urllib3-1.26.7\n"
     ]
    }
   ],
   "source": [
    "!pip install spotipy"
   ]
  },
  {
   "cell_type": "code",
   "execution_count": 5,
   "id": "65a6f35e",
   "metadata": {},
   "outputs": [],
   "source": [
    "import spotipy"
   ]
  },
  {
   "cell_type": "code",
   "execution_count": 6,
   "id": "45992764",
   "metadata": {},
   "outputs": [
    {
     "name": "stdout",
     "output_type": "stream",
     "text": [
      "{'href': 'https://api.spotify.com/v1/shows/1g8kCan9jJUXIJS7yahZB9/episodes?offset=0&limit=50', 'items': [{'audio_preview_url': 'https://p.scdn.co/mp3-preview/e06b69c615f906e0cfe681c5e3d6427205dcc34f', 'description': 'Natsumi Miyashita さんの一級建築士試験に合格したエピソード / 夢\\u3000終わりのトークもぜひ。  ---   Send in a voice message: https://anchor.fm/gift25/message', 'duration_ms': 863201, 'explicit': False, 'external_urls': {'spotify': 'https://open.spotify.com/episode/1v65izNf6eYx9khyyMYXXx'}, 'href': 'https://api.spotify.com/v1/episodes/1v65izNf6eYx9khyyMYXXx', 'html_description': '<p>Natsumi Miyashita さんの一級建築士試験に合格したエピソード / 夢\\u3000終わりのトークもぜひ。</p>\\n\\n--- \\n\\nSend in a voice message: https://anchor.fm/gift25/message', 'id': '1v65izNf6eYx9khyyMYXXx', 'images': [{'height': 640, 'url': 'https://i.scdn.co/image/ab6765630000ba8a8812c0f23d2eec45afc5d8d4', 'width': 640}, {'height': 300, 'url': 'https://i.scdn.co/image/ab67656300005f1f8812c0f23d2eec45afc5d8d4', 'width': 300}, {'height': 64, 'url': 'https://i.scdn.co/image/ab6765630000f68d8812c0f23d2eec45afc5d8d4', 'width': 64}], 'is_externally_hosted': False, 'is_playable': False, 'language': 'ja', 'languages': ['ja'], 'name': 'Natsumi Miyashita さん / 一級建築士編', 'release_date': '2021-12-06', 'release_date_precision': 'day', 'restriction': {'reason': 'product'}, 'type': 'episode', 'uri': 'spotify:episode:1v65izNf6eYx9khyyMYXXx'}, {'audio_preview_url': 'https://p.scdn.co/mp3-preview/d7ede6ab11827f00498c411d055e61cfb0d26d41', 'description': 'Gift から一級建築士試験に合格した Natsumi Miyashita さんに、試験を受けることにした history と memories をお話してもらいました◎  ---   Send in a voice message: https://anchor.fm/gift25/message', 'duration_ms': 319738, 'explicit': False, 'external_urls': {'spotify': 'https://open.spotify.com/episode/3GhROcHAwDjLB5AN80C41i'}, 'href': 'https://api.spotify.com/v1/episodes/3GhROcHAwDjLB5AN80C41i', 'html_description': 'Gift から一級建築士試験に合格した Natsumi Miyashita さんに、試験を受けることにした history と memories をお話してもらいました◎\\n\\n--- \\n\\nSend in a voice message: https://anchor.fm/gift25/message', 'id': '3GhROcHAwDjLB5AN80C41i', 'images': [{'height': 640, 'url': 'https://i.scdn.co/image/ab6765630000ba8a8812c0f23d2eec45afc5d8d4', 'width': 640}, {'height': 300, 'url': 'https://i.scdn.co/image/ab67656300005f1f8812c0f23d2eec45afc5d8d4', 'width': 300}, {'height': 64, 'url': 'https://i.scdn.co/image/ab6765630000f68d8812c0f23d2eec45afc5d8d4', 'width': 64}], 'is_externally_hosted': False, 'is_playable': False, 'language': 'ja', 'languages': ['ja'], 'name': 'Natsumi Miyashita さん / ヒストリー編', 'release_date': '2021-12-06', 'release_date_precision': 'day', 'restriction': {'reason': 'product'}, 'type': 'episode', 'uri': 'spotify:episode:3GhROcHAwDjLB5AN80C41i'}, {'audio_preview_url': 'https://p.scdn.co/mp3-preview/bb53c2463e987e546dc723ca8d9dba6c8ccf4470', 'description': '今日は素敵なゲストとして、一級建築士試験に合格した会社員の Natsumi Miyashita さんをお招きしました ☽\\xa0\\xa0 「 はじめてのラジオ収録で緊張したんですけど、とっても貴重な経験でした☺︎ \\xa0聴いてくださるひとの何かのきっかけになったらいいなと心から思っています。By Natsumi Miyashita. 」  ---   Send in a voice message: https://anchor.fm/gift25/message', 'duration_ms': 491125, 'explicit': False, 'external_urls': {'spotify': 'https://open.spotify.com/episode/42U9B0F8LSop6lSZVWIN6B'}, 'href': 'https://api.spotify.com/v1/episodes/42U9B0F8LSop6lSZVWIN6B', 'html_description': '<p>今日は素敵なゲストとして、一級建築士試験に合格した会社員の Natsumi Miyashita さんをお招きしました ☽&nbsp;&nbsp;</p>\\n<p>「 はじめてのラジオ収録で緊張したんですけど、とっても貴重な経験でした☺︎ &nbsp;聴いてくださるひとの何かのきっかけになったらいいなと心から思っています。By Natsumi Miyashita. 」</p>\\n\\n--- \\n\\nSend in a voice message: https://anchor.fm/gift25/message', 'id': '42U9B0F8LSop6lSZVWIN6B', 'images': [{'height': 640, 'url': 'https://i.scdn.co/image/ab6765630000ba8a8812c0f23d2eec45afc5d8d4', 'width': 640}, {'height': 300, 'url': 'https://i.scdn.co/image/ab67656300005f1f8812c0f23d2eec45afc5d8d4', 'width': 300}, {'height': 64, 'url': 'https://i.scdn.co/image/ab6765630000f68d8812c0f23d2eec45afc5d8d4', 'width': 64}], 'is_externally_hosted': False, 'is_playable': False, 'language': 'ja', 'languages': ['ja'], 'name': 'Natsumi Miyashita さん / 雑談編', 'release_date': '2021-12-06', 'release_date_precision': 'day', 'restriction': {'reason': 'product'}, 'type': 'episode', 'uri': 'spotify:episode:42U9B0F8LSop6lSZVWIN6B'}, {'audio_preview_url': 'https://p.scdn.co/mp3-preview/178f183d7dc0ceaa69b78d2aa697f1bc1973c3ad', 'description': 'はじめまして。Gift Innovation 合同会社 と Gift 王寺駅前自習室の Junya Hayakawa です☺︎ \\xa0きっと、温かくて素敵なラジオにしていきます ☽  ---   Send in a voice message: https://anchor.fm/gift25/message', 'duration_ms': 80248, 'explicit': False, 'external_urls': {'spotify': 'https://open.spotify.com/episode/35DVczxkSmYJ2aU34G1rM1'}, 'href': 'https://api.spotify.com/v1/episodes/35DVczxkSmYJ2aU34G1rM1', 'html_description': 'はじめまして。Gift Innovation 合同会社 と Gift 王寺駅前自習室の Junya Hayakawa です☺︎ \\xa0きっと、温かくて素敵なラジオにしていきます ☽\\n\\n--- \\n\\nSend in a voice message: https://anchor.fm/gift25/message', 'id': '35DVczxkSmYJ2aU34G1rM1', 'images': [{'height': 640, 'url': 'https://i.scdn.co/image/ab6765630000ba8a8812c0f23d2eec45afc5d8d4', 'width': 640}, {'height': 300, 'url': 'https://i.scdn.co/image/ab67656300005f1f8812c0f23d2eec45afc5d8d4', 'width': 300}, {'height': 64, 'url': 'https://i.scdn.co/image/ab6765630000f68d8812c0f23d2eec45afc5d8d4', 'width': 64}], 'is_externally_hosted': False, 'is_playable': False, 'language': 'ja', 'languages': ['ja'], 'name': 'ようこそ GIFT RADIO へ', 'release_date': '2021-10-09', 'release_date_precision': 'day', 'restriction': {'reason': 'product'}, 'type': 'episode', 'uri': 'spotify:episode:35DVczxkSmYJ2aU34G1rM1'}, {'audio_preview_url': 'https://p.scdn.co/mp3-preview/9e218e10aef1b85189eb0081bddefdb4770112ab', 'description': 'はじめて収録してみました☺︎  ---   Send in a voice message: https://anchor.fm/gift25/message', 'duration_ms': 12794, 'explicit': False, 'external_urls': {'spotify': 'https://open.spotify.com/episode/3uSkelZUnVbrtjOHkOkj04'}, 'href': 'https://api.spotify.com/v1/episodes/3uSkelZUnVbrtjOHkOkj04', 'html_description': 'はじめて収録してみました☺︎\\n\\n--- \\n\\nSend in a voice message: https://anchor.fm/gift25/message', 'id': '3uSkelZUnVbrtjOHkOkj04', 'images': [{'height': 640, 'url': 'https://i.scdn.co/image/ab6765630000ba8ad0a58431891021885f542504', 'width': 640}, {'height': 300, 'url': 'https://i.scdn.co/image/ab67656300005f1fd0a58431891021885f542504', 'width': 300}, {'height': 64, 'url': 'https://i.scdn.co/image/ab6765630000f68dd0a58431891021885f542504', 'width': 64}], 'is_externally_hosted': False, 'is_playable': True, 'language': 'ja', 'languages': ['ja'], 'name': '初ラジオの練習', 'release_date': '2021-08-16', 'release_date_precision': 'day', 'type': 'episode', 'uri': 'spotify:episode:3uSkelZUnVbrtjOHkOkj04'}], 'limit': 50, 'next': None, 'offset': 0, 'previous': None, 'total': 5}\n"
     ]
    }
   ],
   "source": [
    "from spotipy.oauth2 import SpotifyClientCredentials\n",
    "from spotipy.oauth2 import SpotifyOAuth\n",
    "\n",
    "sp = spotipy.Spotify(auth_manager=SpotifyOAuth(client_id=\"250d4f4d32a84cfc9d5fdb6b9db392c4\",client_secret=\"f7a8fb0e9f084b1aa0d1823981502b32\",redirect_uri=\"http://localhost:3001/\",scope=\"user-library-read\"))\n",
    "\n",
    "results = sp.show_episodes('1g8kCan9jJUXIJS7yahZB9')\n",
    "print(results)\n",
    "# for idx, track in enumerate(results['tracks']['items']):\n",
    "    # print(idx, track['name'])"
   ]
  },
  {
   "cell_type": "code",
   "execution_count": 8,
   "id": "2412774c",
   "metadata": {},
   "outputs": [
    {
     "name": "stdout",
     "output_type": "stream",
     "text": [
      "0 Natsumi Miyashita さん / 一級建築士編\n",
      "1 Natsumi Miyashita さん / ヒストリー編\n",
      "2 Natsumi Miyashita さん / 雑談編\n",
      "3 ようこそ GIFT RADIO へ\n",
      "4 初ラジオの練習\n"
     ]
    }
   ],
   "source": [
    "for idx, track in enumerate(results['items']):\n",
    "    print(idx, track['name'])"
   ]
  },
  {
   "cell_type": "code",
   "execution_count": null,
   "id": "b35128a4",
   "metadata": {},
   "outputs": [],
   "source": []
  }
 ],
 "metadata": {
  "kernelspec": {
   "display_name": "Python 3 (ipykernel)",
   "language": "python",
   "name": "python3"
  },
  "language_info": {
   "codemirror_mode": {
    "name": "ipython",
    "version": 3
   },
   "file_extension": ".py",
   "mimetype": "text/x-python",
   "name": "python",
   "nbconvert_exporter": "python",
   "pygments_lexer": "ipython3",
   "version": "3.9.12"
  }
 },
 "nbformat": 4,
 "nbformat_minor": 5
}
